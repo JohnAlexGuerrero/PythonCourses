{
 "cells": [
  {
   "cell_type": "code",
   "execution_count": 2,
   "id": "271a30a3",
   "metadata": {},
   "outputs": [],
   "source": [
    "'''\n",
    "\n",
    "- Suma de listas: Escribe una función que tome dos listas como entrada y devuelva una nueva lista\n",
    "    que contenga la suma de los elementos correspondientes de ambas listas.\n",
    "'''\n",
    "\n",
    "def sum_two_list(a, b):\n",
    "    result = []\n",
    "    result.append(sum(a))\n",
    "    result.append(sum(b))\n",
    "    return result\n",
    "    "
   ]
  },
  {
   "cell_type": "code",
   "execution_count": 3,
   "id": "376d43f9",
   "metadata": {},
   "outputs": [
    {
     "data": {
      "text/plain": [
       "[15, 40]"
      ]
     },
     "execution_count": 3,
     "metadata": {},
     "output_type": "execute_result"
    }
   ],
   "source": [
    "sum_two_list(a=[1,2,3,4,5],b=[6,7,8,9,10])"
   ]
  },
  {
   "cell_type": "code",
   "execution_count": 4,
   "id": "20307493",
   "metadata": {},
   "outputs": [],
   "source": [
    "'''\n",
    "- Número máximo y mínimo: Escribe una función que tome una lista de \n",
    "números como entrada y\n",
    "devuelva el número máximo y mínimo de la lista.\n",
    "'''\n",
    "\n",
    "def max_and_min_list(a):\n",
    "    return max(a), min(a)"
   ]
  },
  {
   "cell_type": "code",
   "execution_count": 5,
   "id": "ddfdd731",
   "metadata": {},
   "outputs": [
    {
     "data": {
      "text/plain": [
       "(89, -1)"
      ]
     },
     "execution_count": 5,
     "metadata": {},
     "output_type": "execute_result"
    }
   ],
   "source": [
    "max_and_min_list([3,4,67,89,2,0,-1])"
   ]
  },
  {
   "cell_type": "code",
   "execution_count": 11,
   "id": "28a903ca",
   "metadata": {},
   "outputs": [],
   "source": [
    "'''\n",
    "- Eliminar duplicados: Escribe una función\n",
    "que tome una lista como entrada y devuelva una nueva lista sin elementos duplicados.\n",
    "'''\n",
    "\n",
    "def del_duplicate_list(b):\n",
    "    uniquess = set(b)\n",
    "    return list(uniquess)"
   ]
  },
  {
   "cell_type": "code",
   "execution_count": 12,
   "id": "dd30b7ba",
   "metadata": {},
   "outputs": [
    {
     "data": {
      "text/plain": [
       "[1, 2, 3, 4, 5, 6, 7]"
      ]
     },
     "execution_count": 12,
     "metadata": {},
     "output_type": "execute_result"
    }
   ],
   "source": [
    "del_duplicate_list([1,1,3,4,5,6,6,5,3,7,2,7])"
   ]
  },
  {
   "cell_type": "code",
   "execution_count": 26,
   "id": "67a495e0",
   "metadata": {},
   "outputs": [],
   "source": [
    "'''\n",
    "- Palabras más largas: Escribe una función que tome una lista de palabras\n",
    "como entrada y devuelva una tupla, de un solo elemento,\n",
    "con la palabra más larga de la lista.\n",
    "'''\n",
    "\n",
    "def word_max_length(a):\n",
    "    word = [len(w) for w in a]\n",
    "    result = [w for w in a if len(w)==max(word)]\n",
    "    return (result[0],)"
   ]
  },
  {
   "cell_type": "code",
   "execution_count": 27,
   "id": "87cdd87c",
   "metadata": {},
   "outputs": [
    {
     "data": {
      "text/plain": [
       "('codigofacilito',)"
      ]
     },
     "execution_count": 27,
     "metadata": {},
     "output_type": "execute_result"
    }
   ],
   "source": [
    "word_max_length(['hello','world','codigofacilito','rocket'])"
   ]
  },
  {
   "cell_type": "code",
   "execution_count": 56,
   "id": "d994f0e4",
   "metadata": {},
   "outputs": [],
   "source": [
    "'''\n",
    "- Invertir lista: Escribe una función que tome una lista como entrada y\n",
    "devuelva una nueva lista con los elementos en orden inverso.\n",
    "'''\n",
    "\n",
    "def reverse_elements_list(a):\n",
    "    return a.reverse()"
   ]
  },
  {
   "cell_type": "code",
   "execution_count": 57,
   "id": "1ffd7ebc",
   "metadata": {},
   "outputs": [],
   "source": [
    "reverse_elements_list([2,12,1])"
   ]
  },
  {
   "cell_type": "code",
   "execution_count": null,
   "id": "33b815bb",
   "metadata": {},
   "outputs": [],
   "source": [
    "'''\n",
    "- Media y mediana: Escribe una función que tome una tupla de números como entrada y devuelva la media y la mediana de los números.\n",
    "\n",
    "- Estadísticas descriptivas: Escribe una función que tome una tupla de números como entrada y devuelva un diccionario con la media, la mediana y el rango de los números.\n",
    "\n",
    "- Conteo de elementos: Escribe una función que tome una tupla de elementos y devuelva un diccionario con la cantidad de veces que aparece cada elemento en la tupla.\n",
    "    \n",
    "- Ordenar tuplas: Escribe una función que tome una lista de tuplas, donde cada tupla contiene un nombre y una puntuación, y devuelva la lista ordenada por la puntuación de mayor a menor.\n",
    "    \n",
    "- Ordenar tuplas: Escribe una función que tome una lista de tuplas, donde cada tupla contiene un nombre y una puntuación, y devuelva la lista ordenada por la puntuación de mayor a menor.\n",
    "    \n",
    "- Ordenar tuplas: Escribe una función que tome una lista de tuplas, donde cada tupla contiene un nombre y una puntuación, y devuelva la lista ordenada por la puntuación de mayor a menor.\n",
    "    \n",
    "- Filtrar datos: Escribe una función que tome una lista de tuplas, donde cada tupla contiene el nombre de un producto y su precio, y devuelva una nueva lista con los productos cuyo precio sea inferior a un valor dado.\n",
    "    \n",
    "- Combinar tuplas: Escribe una función que tome dos tuplas de números como entrada y devuelva una nueva tupla que contenga la suma de los elementos correspondientes de ambas tuplas.\n",
    "\n",
    "- Frecuencia de letras: Escribe una función que tome una cadena como entrada y devuelva un diccionario con la frecuencia de cada letra en la cadena, utilizando una tupla para representar cada par letra-frecuencia.\n",
    "'''"
   ]
  }
 ],
 "metadata": {
  "kernelspec": {
   "display_name": "Python 3 (ipykernel)",
   "language": "python",
   "name": "python3"
  },
  "language_info": {
   "codemirror_mode": {
    "name": "ipython",
    "version": 3
   },
   "file_extension": ".py",
   "mimetype": "text/x-python",
   "name": "python",
   "nbconvert_exporter": "python",
   "pygments_lexer": "ipython3",
   "version": "3.9.12"
  }
 },
 "nbformat": 4,
 "nbformat_minor": 5
}
