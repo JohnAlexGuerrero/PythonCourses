{
 "cells": [
  {
   "cell_type": "code",
   "execution_count": 7,
   "id": "61311499",
   "metadata": {},
   "outputs": [],
   "source": [
    "import PyPDF2\n",
    "\n",
    "from PIL import Image"
   ]
  },
  {
   "cell_type": "code",
   "execution_count": 8,
   "id": "fba8c428",
   "metadata": {},
   "outputs": [
    {
     "ename": "FileNotFoundError",
     "evalue": "[Errno 2] No such file or directory: 'example.pdf'",
     "output_type": "error",
     "traceback": [
      "\u001b[1;31m---------------------------------------------------------------------------\u001b[0m",
      "\u001b[1;31mFileNotFoundError\u001b[0m                         Traceback (most recent call last)",
      "Input \u001b[1;32mIn [8]\u001b[0m, in \u001b[0;36m<cell line: 3>\u001b[1;34m()\u001b[0m\n\u001b[0;32m      1\u001b[0m \u001b[38;5;66;03m#open the file PDF\u001b[39;00m\n\u001b[1;32m----> 3\u001b[0m \u001b[38;5;28;01mwith\u001b[39;00m \u001b[38;5;28;43mopen\u001b[39;49m\u001b[43m(\u001b[49m\u001b[38;5;124;43m'\u001b[39;49m\u001b[38;5;124;43mexample.pdf\u001b[39;49m\u001b[38;5;124;43m'\u001b[39;49m\u001b[43m,\u001b[49m\u001b[43m \u001b[49m\u001b[38;5;124;43m'\u001b[39;49m\u001b[38;5;124;43mrb\u001b[39;49m\u001b[38;5;124;43m'\u001b[39;49m\u001b[43m)\u001b[49m \u001b[38;5;28;01mas\u001b[39;00m file:\n\u001b[0;32m      4\u001b[0m     \u001b[38;5;66;03m# Crear un objeto PDF\u001b[39;00m\n\u001b[0;32m      5\u001b[0m     pdf \u001b[38;5;241m=\u001b[39m PyPDF2\u001b[38;5;241m.\u001b[39mPdfFileReader(file)\n\u001b[0;32m      6\u001b[0m     \u001b[38;5;66;03m# Obtener el número de páginas\u001b[39;00m\n",
      "\u001b[1;31mFileNotFoundError\u001b[0m: [Errno 2] No such file or directory: 'example.pdf'"
     ]
    }
   ],
   "source": [
    "#open the file PDF\n",
    "\n",
    "with open('87-88 - Mushoku Tensei.pdf', 'rb') as file:\n",
    "    # Crear un objeto PDF\n",
    "    pdf = PyPDF2.PdfFileReader(file)\n",
    "    # Obtener el número de páginas\n",
    "    pages = pdf.getNumPages()\n",
    "    # Iterar sobre las páginas\n",
    "    for page in range(pages):\n",
    "        # Obtener la página actual\n",
    "        current_page = pdf.getPage(page)\n",
    "        # Obtener los objetos de la página\n",
    "        page_objects = current_page['/Resources']['/XObject'].getObject()\n",
    "        # Iterar sobre los objetos de la página\n",
    "        for obj in page_objects:\n",
    "            # Comprobar si el objeto es una imagen\n",
    "            if page_objects[obj]['/Subtype'] == '/Image':\n",
    "                # Extraer los datos de la imagen\n",
    "                image_data = page_objects[obj].getData()\n",
    "                # Crear un archivo temporal con los datos de la imagen\n",
    "                with open('temp.jpg', 'wb') as img_file:\n",
    "                    img_file.write(image_data)\n",
    "                # Abrir la imagen con PIL\n",
    "                with Image.open('temp.jpg') as img:\n",
    "                    # Obtener los metadatos de la imagen\n",
    "                    exif_data = img.getexif()\n",
    "                    # Imprimir los metadatos de la imagen\n",
    "                    print(exif_data)"
   ]
  },
  {
   "cell_type": "code",
   "execution_count": null,
   "id": "cb97a817",
   "metadata": {},
   "outputs": [],
   "source": []
  }
 ],
 "metadata": {
  "kernelspec": {
   "display_name": "Python 3 (ipykernel)",
   "language": "python",
   "name": "python3"
  },
  "language_info": {
   "codemirror_mode": {
    "name": "ipython",
    "version": 3
   },
   "file_extension": ".py",
   "mimetype": "text/x-python",
   "name": "python",
   "nbconvert_exporter": "python",
   "pygments_lexer": "ipython3",
   "version": "3.9.12"
  }
 },
 "nbformat": 4,
 "nbformat_minor": 5
}
