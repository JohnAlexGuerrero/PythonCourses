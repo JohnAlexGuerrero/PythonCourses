{
 "cells": [
  {
   "cell_type": "markdown",
   "id": "d812b758",
   "metadata": {},
   "source": [
    "Image Processing Wwith the Python Pillow Library"
   ]
  },
  {
   "cell_type": "code",
   "execution_count": 1,
   "id": "fd09a554",
   "metadata": {},
   "outputs": [],
   "source": [
    "from PIL import Image"
   ]
  },
  {
   "cell_type": "code",
   "execution_count": 2,
   "id": "7f2e4268",
   "metadata": {},
   "outputs": [],
   "source": [
    "filename = 'Deadpool Mata a Deadpool Vol1/Deadpool Kills Deadpool Vol.1 #01/000.jpg'"
   ]
  },
  {
   "cell_type": "code",
   "execution_count": 3,
   "id": "eac743bc",
   "metadata": {},
   "outputs": [],
   "source": [
    "with Image.open(filename) as img:\n",
    "    img.load()\n",
    "    \n",
    "    type(img)\n",
    "    img.show()"
   ]
  },
  {
   "cell_type": "code",
   "execution_count": null,
   "id": "3a30849d",
   "metadata": {},
   "outputs": [],
   "source": []
  }
 ],
 "metadata": {
  "kernelspec": {
   "display_name": "Python 3 (ipykernel)",
   "language": "python",
   "name": "python3"
  },
  "language_info": {
   "codemirror_mode": {
    "name": "ipython",
    "version": 3
   },
   "file_extension": ".py",
   "mimetype": "text/x-python",
   "name": "python",
   "nbconvert_exporter": "python",
   "pygments_lexer": "ipython3",
   "version": "3.9.12"
  }
 },
 "nbformat": 4,
 "nbformat_minor": 5
}
