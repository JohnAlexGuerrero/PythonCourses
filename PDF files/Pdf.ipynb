{
 "cells": [
  {
   "cell_type": "markdown",
   "id": "c5333395",
   "metadata": {},
   "source": [
    "pip install PyPDF2"
   ]
  },
  {
   "cell_type": "code",
   "execution_count": 21,
   "id": "c3f52b1d",
   "metadata": {},
   "outputs": [],
   "source": [
    "#open PDF file\n",
    "\n",
    "from PyPDF2 import PdfFileReader\n",
    "from pathlib import Path\n",
    "\n",
    "pdf_path = (\n",
    "    Path.home()\n",
    "    /\"Downloads\"\n",
    "    /\"NumPy-Cookbook.pdf\"\n",
    ")"
   ]
  },
  {
   "cell_type": "code",
   "execution_count": 22,
   "id": "9aa54627",
   "metadata": {},
   "outputs": [],
   "source": [
    "pdf = PdfFileReader(str(pdf_path))"
   ]
  },
  {
   "cell_type": "code",
   "execution_count": 23,
   "id": "8c233351",
   "metadata": {},
   "outputs": [
    {
     "data": {
      "text/plain": [
       "32"
      ]
     },
     "execution_count": 23,
     "metadata": {},
     "output_type": "execute_result"
    }
   ],
   "source": [
    "#number of pages of PDF file\n",
    "\n",
    "pdf.getNumPages()"
   ]
  },
  {
   "cell_type": "code",
   "execution_count": 24,
   "id": "281511e5",
   "metadata": {},
   "outputs": [
    {
     "data": {
      "text/plain": [
       "{'/Author': 'Conidon',\n",
       " '/CreationDate': \"D:20150428154203+05'30'\",\n",
       " '/Creator': 'Microsoft® Word 2010',\n",
       " '/ModDate': \"D:20150428162653+05'30'\",\n",
       " '/Producer': 'Microsoft® Word 2010',\n",
       " '/Title': 'Chapter 4'}"
      ]
     },
     "execution_count": 24,
     "metadata": {},
     "output_type": "execute_result"
    }
   ],
   "source": [
    "pdf.documentInfo"
   ]
  },
  {
   "cell_type": "code",
   "execution_count": 10,
   "id": "b3de4ecf",
   "metadata": {},
   "outputs": [
    {
     "data": {
      "text/plain": [
       "'Microsoft Word - beginners_python_cheat_sheet_pcc_django.docx'"
      ]
     },
     "execution_count": 10,
     "metadata": {},
     "output_type": "execute_result"
    }
   ],
   "source": [
    "pdf.documentInfo.title"
   ]
  },
  {
   "cell_type": "markdown",
   "id": "f4506358",
   "metadata": {},
   "source": [
    "Extracting Text From a Page"
   ]
  },
  {
   "cell_type": "code",
   "execution_count": 31,
   "id": "4153f15c",
   "metadata": {},
   "outputs": [
    {
     "name": "stdout",
     "output_type": "stream",
     "text": [
      "{'/BleedBox': [36, 63, 576, 729], '/Contents': [IndirectObject(204, 0, 2462977946672), IndirectObject(205, 0, 2462977946672), IndirectObject(206, 0, 2462977946672), IndirectObject(207, 0, 2462977946672)], '/CropBox': [36, 63, 576, 729], '/MediaBox': [0, 0, 612, 792], '/Parent': IndirectObject(11, 0, 2462977946672), '/Resources': IndirectObject(208, 0, 2462977946672), '/Rotate': 0, '/TrimBox': [36, 63, 576, 729], '/Type': '/Page', '/Annots': []}\n"
     ]
    }
   ],
   "source": [
    "page = pdf.getPage(7)\n",
    "\n",
    "print(page)"
   ]
  },
  {
   "cell_type": "code",
   "execution_count": 32,
   "id": "d6b375cb",
   "metadata": {},
   "outputs": [
    {
     "data": {
      "text/plain": [
       "['Tener el control de funciones más usadas',\n",
       " '46Esto imprime la media de oro:',\n",
       " 'Phi 1.61803398875',\n",
       " '2. A continuación, en la receta, tenemos que hallar el índice del número de Fibonacci por debajo de 4 millones de dólares. Una fórmula para ',\n",
       " 'esto se da en la página de Wikipedia, y vamos a calcular usando esa fórmula. Todo lo que tenemos que hacer es bases de registro de ',\n",
       " 'convertir con la  Iniciar sesión()  función. No necesitamos para redondear el resultado hacia abajo al entero más cercano. Esto se hace convertir con la  Iniciar sesión()  función. No necesitamos para redondear el resultado hacia abajo al entero más cercano. Esto se hace convertir con la  Iniciar sesión()  función. No necesitamos para redondear el resultado hacia abajo al entero más cercano. Esto se hace ',\n",
       " 'automáticamente para nosotros en el siguiente paso de la receta:',\n",
       " 'n = np.log (4 * 10 ** 6 * np.sqrt (5) ',\n",
       " '+0.5) /np.log (phi)',\n",
       " 'impresión (n)',\n",
       " 'El valor de norte es como sigue: El valor de norte es como sigue: El valor de norte es como sigue:',\n",
       " '33.2629480359',\n",
       " '3. La arange ()  función es una función muy básico que muchas personas conocen. Aún así, lo haremos 3. La arange ()  función es una función muy básico que muchas personas conocen. Aún así, lo haremos 3. La arange ()  función es una función muy básico que muchas personas conocen. Aún así, lo haremos',\n",
       " 'mencionarla aquí para completar:',\n",
       " 'n = np.arange (1, n)',\n",
       " '4. Hay una fórmula conveniente que podemos utilizar para calcular los números de Fibonacci. Vamos a necesitar el número áureo y ',\n",
       " 'el conjunto de la etapa anterior en esta receta como parámetros de entrada. Imprimir la primera nueve números de Fibonacci ',\n",
       " 'para comprobar el resultado:',\n",
       " 'fib = (phi ** n - (-1 / phi) ** n) /np.sqrt (5) de impresión ( \"Números ',\n",
       " 'Primera 9 de Fibonacci\", fib [: 9])',\n",
       " 'Podría haber hecho una prueba de unidad en lugar de una declaración de impresión. Una unidad de prueba es una ',\n",
       " 'prueba que pone a prueba una pequeña unidad de código, tal como una función. Esta variación de la receta se deja ',\n",
       " 'como ejercicio para usted.',\n",
       " 'Echa un vistazo a Capítulo 8,  Seguro de calidad,  para los punteros sobre cómo escribir una prueba unitaria. Echa un vistazo a Capítulo 8,  Seguro de calidad,  para los punteros sobre cómo escribir una prueba unitaria. Echa un vistazo a Capítulo 8,  Seguro de calidad,  para los punteros sobre cómo escribir una prueba unitaria. Echa un vistazo a Capítulo 8,  Seguro de calidad,  para los punteros sobre cómo escribir una prueba unitaria.',\n",
       " 'No estamos comenzando con el número 0 aquí, por cierto. El código antes mencionado nos da una serie como se ',\n",
       " 'esperaba:',\n",
       " 'Números primero 9 de Fibonacci [1. 1. 2. 3. 5. 8. 13. 21. ',\n",
       " '34.]',\n",
       " 'Puede conectar este derecho en una unidad de prueba, si lo desea.',\n",
       " '5. Convertir a números enteros.',\n",
       " 'Este paso es opcional. Creo que es bueno tener un resultado entero al final. Está bien, yo en realidad ',\n",
       " 'quería lograr que los  astype ()  función: quería lograr que los  astype ()  función: quería lograr que los  astype ()  función:']"
      ]
     },
     "execution_count": 32,
     "metadata": {},
     "output_type": "execute_result"
    }
   ],
   "source": [
    "page.extractText().split('\\n')"
   ]
  },
  {
   "cell_type": "markdown",
   "id": "f88efbd7",
   "metadata": {},
   "source": [
    "Create a new file with format .txt"
   ]
  },
  {
   "cell_type": "code",
   "execution_count": 19,
   "id": "ac80ac36",
   "metadata": {},
   "outputs": [],
   "source": [
    "output_file_path = (\n",
    "    Path.home()\n",
    "    /\"Downloads\"\n",
    "    /\"beginners_python_cheat_sheet_pcc_django.txt\"\n",
    ")\n",
    "\n",
    "with output_file_path.open(mode=\"w\") as output_file:\n",
    "    title = pdf.documentInfo.title\n",
    "    num_pages = pdf.getNumPages()\n",
    "    output_file.write(f'{title}\\\\n Number of pages: {num_pages}\\\\n\\\\n')\n",
    "    \n",
    "    for page in pdf.pages:\n",
    "        text = page.extractText()\n",
    "        output_file.write(text)\n",
    "        "
   ]
  },
  {
   "cell_type": "code",
   "execution_count": 16,
   "id": "cdfc15c0",
   "metadata": {},
   "outputs": [
    {
     "data": {
      "text/plain": [
       "WindowsPath('C:/Users/JOHN/Downloads/beginners_python_cheat_sheet_pcc_django.txt')"
      ]
     },
     "execution_count": 16,
     "metadata": {},
     "output_type": "execute_result"
    }
   ],
   "source": [
    "output_file_path"
   ]
  },
  {
   "cell_type": "code",
   "execution_count": 20,
   "id": "68a7c699",
   "metadata": {},
   "outputs": [
    {
     "name": "stderr",
     "output_type": "stream",
     "text": [
      " impossible to decode XFormObject /R\n",
      " impossible to decode XFormObject /R2\n"
     ]
    }
   ],
   "source": [
    "path_file = (\n",
    "    Path.home()\n",
    "    /\"Downloads\"\n",
    "    /\"consulta-tu-soat_18_2_2023.pdf\"\n",
    ")\n",
    "\n",
    "pdf = PdfFileReader(str(path_file))\n",
    "\n",
    "output_file_path = (\n",
    "    Path.home()\n",
    "    /\"Downloads\"\n",
    "    /\"soat-2023.txt\"\n",
    ")\n",
    "\n",
    "with output_file_path.open(mode=\"w\") as output_file:\n",
    "    num_pages = pdf.getNumPages()\n",
    "    output_file.write(f\"number of pages: {num_pages}\\\\n\\\\n\")\n",
    "    \n",
    "    for page in pdf.pages:\n",
    "        text = page.extractText()\n",
    "        output_file.write(text)\n",
    "    "
   ]
  },
  {
   "cell_type": "code",
   "execution_count": null,
   "id": "e84040c3",
   "metadata": {},
   "outputs": [],
   "source": []
  },
  {
   "cell_type": "code",
   "execution_count": null,
   "id": "86c56bf4",
   "metadata": {},
   "outputs": [],
   "source": []
  }
 ],
 "metadata": {
  "kernelspec": {
   "display_name": "Python 3 (ipykernel)",
   "language": "python",
   "name": "python3"
  },
  "language_info": {
   "codemirror_mode": {
    "name": "ipython",
    "version": 3
   },
   "file_extension": ".py",
   "mimetype": "text/x-python",
   "name": "python",
   "nbconvert_exporter": "python",
   "pygments_lexer": "ipython3",
   "version": "3.9.12"
  }
 },
 "nbformat": 4,
 "nbformat_minor": 5
}
