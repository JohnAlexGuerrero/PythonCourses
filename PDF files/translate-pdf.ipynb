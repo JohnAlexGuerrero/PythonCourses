{
 "cells": [
  {
   "cell_type": "code",
   "execution_count": 1,
   "id": "e9a51ace",
   "metadata": {},
   "outputs": [],
   "source": [
    "from PyPDF2 import PdfFileReader\n",
    "from pathlib import Path\n",
    "\n",
    "pdf_path = (\n",
    "    Path.home()\n",
    "    /\"Downloads\"\n",
    "    /\"The-Eyes-of-Darkness-Dean-Koontz.pdf\"\n",
    ")"
   ]
  },
  {
   "cell_type": "code",
   "execution_count": 2,
   "id": "43fe1f21",
   "metadata": {},
   "outputs": [],
   "source": [
    "pdf = PdfFileReader(str(pdf_path))"
   ]
  },
  {
   "cell_type": "code",
   "execution_count": 3,
   "id": "fceb559d",
   "metadata": {},
   "outputs": [
    {
     "data": {
      "text/plain": [
       "188"
      ]
     },
     "execution_count": 3,
     "metadata": {},
     "output_type": "execute_result"
    }
   ],
   "source": [
    "number_pages = pdf.getNumPages()\n",
    "number_pages"
   ]
  },
  {
   "cell_type": "code",
   "execution_count": 12,
   "id": "e4824690",
   "metadata": {},
   "outputs": [],
   "source": [
    "from googletrans import LANGUAGES\n",
    "from googletrans import Translator\n",
    "\n",
    "#print(LANGUAGES)"
   ]
  },
  {
   "cell_type": "code",
   "execution_count": 13,
   "id": "a9cc2240",
   "metadata": {},
   "outputs": [
    {
     "ename": "TypeError",
     "evalue": "translate() missing 1 required positional argument: 'text'",
     "output_type": "error",
     "traceback": [
      "\u001b[1;31m---------------------------------------------------------------------------\u001b[0m",
      "\u001b[1;31mTypeError\u001b[0m                                 Traceback (most recent call last)",
      "Input \u001b[1;32mIn [13]\u001b[0m, in \u001b[0;36m<cell line: 4>\u001b[1;34m()\u001b[0m\n\u001b[0;32m      2\u001b[0m page \u001b[38;5;241m=\u001b[39m pdf\u001b[38;5;241m.\u001b[39mgetPage(\u001b[38;5;241m1\u001b[39m)\n\u001b[0;32m      3\u001b[0m text \u001b[38;5;241m=\u001b[39m page\u001b[38;5;241m.\u001b[39mextractText()\n\u001b[1;32m----> 4\u001b[0m translation \u001b[38;5;241m=\u001b[39m \u001b[43mTranslator\u001b[49m\u001b[38;5;241;43m.\u001b[39;49m\u001b[43mtranslate\u001b[49m\u001b[43m(\u001b[49m\u001b[43mtext\u001b[49m\u001b[43m,\u001b[49m\u001b[43m \u001b[49m\u001b[43mdest\u001b[49m\u001b[38;5;241;43m=\u001b[39;49m\u001b[38;5;124;43m'\u001b[39;49m\u001b[38;5;124;43mes\u001b[39;49m\u001b[38;5;124;43m'\u001b[39;49m\u001b[43m)\u001b[49m\n\u001b[0;32m      6\u001b[0m \u001b[38;5;28;01mfor\u001b[39;00m t \u001b[38;5;129;01min\u001b[39;00m translation\u001b[38;5;241m.\u001b[39mtext\u001b[38;5;241m.\u001b[39msplit(\u001b[38;5;124m'\u001b[39m\u001b[38;5;130;01m\\n\u001b[39;00m\u001b[38;5;124m'\u001b[39m):\n\u001b[0;32m      7\u001b[0m     \u001b[38;5;28mprint\u001b[39m(t)\n",
      "\u001b[1;31mTypeError\u001b[0m: translate() missing 1 required positional argument: 'text'"
     ]
    }
   ],
   "source": [
    "#for p in range(number_pages):\n",
    "page = pdf.getPage(1)\n",
    "text = page.extractText()\n",
    "translation = Translator.translate(text, dest='es')\n",
    "\n",
    "for t in translation.text.split('\\n'):\n",
    "    print(t)\n",
    "    "
   ]
  },
  {
   "cell_type": "code",
   "execution_count": 9,
   "id": "33feaaae",
   "metadata": {},
   "outputs": [
    {
     "data": {
      "text/plain": [
       "str"
      ]
     },
     "execution_count": 9,
     "metadata": {},
     "output_type": "execute_result"
    }
   ],
   "source": [
    "type(text)"
   ]
  },
  {
   "cell_type": "code",
   "execution_count": null,
   "id": "a22c2f0c",
   "metadata": {},
   "outputs": [],
   "source": []
  },
  {
   "cell_type": "code",
   "execution_count": null,
   "id": "74787943",
   "metadata": {},
   "outputs": [],
   "source": []
  },
  {
   "cell_type": "code",
   "execution_count": null,
   "id": "a547e4ce",
   "metadata": {},
   "outputs": [],
   "source": []
  },
  {
   "cell_type": "code",
   "execution_count": null,
   "id": "a1a248f9",
   "metadata": {},
   "outputs": [],
   "source": [
    "\n"
   ]
  },
  {
   "cell_type": "code",
   "execution_count": null,
   "id": "77015d7e",
   "metadata": {},
   "outputs": [],
   "source": []
  }
 ],
 "metadata": {
  "kernelspec": {
   "display_name": "Python 3 (ipykernel)",
   "language": "python",
   "name": "python3"
  },
  "language_info": {
   "codemirror_mode": {
    "name": "ipython",
    "version": 3
   },
   "file_extension": ".py",
   "mimetype": "text/x-python",
   "name": "python",
   "nbconvert_exporter": "python",
   "pygments_lexer": "ipython3",
   "version": "3.9.12"
  }
 },
 "nbformat": 4,
 "nbformat_minor": 5
}
